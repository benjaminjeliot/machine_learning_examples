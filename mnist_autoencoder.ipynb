{
 "cells": [
  {
   "cell_type": "markdown",
   "metadata": {},
   "source": [
    "# MNIST autoencoder example\n",
    "\n",
    "Simple autoencoder example using MNIST dataset."
   ]
  },
  {
   "cell_type": "code",
   "execution_count": 1,
   "metadata": {},
   "outputs": [],
   "source": [
    "import matplotlib.pyplot as plt\n",
    "import numpy as np\n",
    "import tensorflow as tf"
   ]
  },
  {
   "cell_type": "code",
   "execution_count": 2,
   "metadata": {},
   "outputs": [],
   "source": [
    "learning_rate = 0.001\n",
    "batch_size = 1000\n",
    "n_epochs = 20"
   ]
  },
  {
   "cell_type": "code",
   "execution_count": 3,
   "metadata": {},
   "outputs": [],
   "source": [
    "(x_train, y_train), (x_test, y_test) = tf.keras.datasets.mnist.load_data()"
   ]
  },
  {
   "cell_type": "markdown",
   "metadata": {},
   "source": [
    "Display some examples of the training data."
   ]
  },
  {
   "cell_type": "code",
   "execution_count": 4,
   "metadata": {},
   "outputs": [
    {
     "data": {
      "image/png": "[encoded data removed]",
      "text/plain": [
       "<matplotlib.figure.Figure at 0x7f1f9ff38550>"
      ]
     },
     "metadata": {},
     "output_type": "display_data"
    }
   ],
   "source": [
    "fig, subplots = plt.subplots(4, 4)\n",
    "\n",
    "for i in range(16):\n",
    "    x_index = i % 4\n",
    "    y_index = i // 4\n",
    "\n",
    "    ax = subplots[y_index, x_index]\n",
    "    ax.axis('off')\n",
    "    ax.imshow(x_train[i], cmap='gray')"
   ]
  },
  {
   "cell_type": "code",
   "execution_count": 5,
   "metadata": {},
   "outputs": [],
   "source": [
    "x_batch = tf.placeholder(tf.float32, shape=(None, 28, 28), name='input_images')"
   ]
  },
  {
   "cell_type": "markdown",
   "metadata": {},
   "source": [
    "Reformat and reshape data."
   ]
  },
  {
   "cell_type": "code",
   "execution_count": 6,
   "metadata": {},
   "outputs": [],
   "source": [
    "x_reshape = tf.reshape(x_batch, (-1, 28, 28, 1))"
   ]
  },
  {
   "cell_type": "code",
   "execution_count": 7,
   "metadata": {},
   "outputs": [],
   "source": [
    "# TODO: normalize data"
   ]
  },
  {
   "cell_type": "code",
   "execution_count": 8,
   "metadata": {},
   "outputs": [],
   "source": [
    "# Encode\n",
    "\n",
    "# Size is (N, 28, 28, 1)\n",
    "\n",
    "conv_1 = tf.contrib.layers.conv2d(\n",
    "    inputs=x_reshape,\n",
    "    num_outputs=16,\n",
    "    kernel_size=3,\n",
    "    stride=1,\n",
    "    padding='SAME',\n",
    "    activation_fn=tf.nn.relu)\n",
    "\n",
    "# Size is (N, 28, 28, 16)\n",
    "\n",
    "max_pool_1 = tf.nn.max_pool(\n",
    "    value=conv_1,\n",
    "    ksize=(1, 2, 2, 1),\n",
    "    strides=(1, 2, 2, 1),\n",
    "    padding='SAME',\n",
    "    data_format='NHWC',\n",
    "    name='max_pool_1')\n",
    "\n",
    "# Size is (N, 14, 14, 16)\n",
    "\n",
    "conv_2 = tf.contrib.layers.conv2d(\n",
    "    inputs=max_pool_1,\n",
    "    num_outputs=32,\n",
    "    kernel_size=3,\n",
    "    stride=1,\n",
    "    padding='SAME',\n",
    "    activation_fn=tf.nn.relu)\n",
    "\n",
    "# Size is (N, 14, 14, 32)\n",
    "\n",
    "max_pool_2 = tf.nn.max_pool(\n",
    "    value=conv_2,\n",
    "    ksize=(1, 2, 2, 1),\n",
    "    strides=(1, 2, 2, 1),\n",
    "    padding='SAME',\n",
    "    data_format='NHWC',\n",
    "    name='max_pool_2')\n",
    "\n",
    "# Size is (N, 7, 7, 16)"
   ]
  },
  {
   "cell_type": "code",
   "execution_count": 9,
   "metadata": {},
   "outputs": [],
   "source": [
    "# Decode\n",
    "\n",
    "upsample_1 = tf.keras.layers.UpSampling2D(\n",
    "    size=(2, 2),\n",
    "    data_format='channels_last'\n",
    ")(max_pool_2)\n",
    "\n",
    "# Size is (N, 14, 14, 16)\n",
    "\n",
    "deconv_1 = tf.layers.conv2d_transpose(\n",
    "    inputs=upsample_1,\n",
    "    filters=16,\n",
    "    kernel_size=3,\n",
    "    strides=(1, 1),\n",
    "    padding='SAME',\n",
    "    activation=tf.nn.relu,\n",
    "    name='deconv_1')\n",
    "\n",
    "# Size is (N, 14, 14, 16)\n",
    "\n",
    "upsample_2 = tf.keras.layers.UpSampling2D(\n",
    "    size=(2, 2),\n",
    "    data_format='channels_last'\n",
    ")(deconv_1)\n",
    "\n",
    "# Size is (N, 28, 28, 16)\n",
    "\n",
    "deconv_2 = tf.layers.conv2d_transpose(\n",
    "    inputs=upsample_2,\n",
    "    filters=1,\n",
    "    kernel_size=3,\n",
    "    strides=(1, 1),\n",
    "    padding='SAME',\n",
    "    activation=tf.nn.relu,\n",
    "    name='deconv_2')\n",
    "\n",
    "# Size is (N, 28, 28, 1)"
   ]
  },
  {
   "cell_type": "code",
   "execution_count": 10,
   "metadata": {},
   "outputs": [],
   "source": [
    "train_loss = tf.losses.mean_squared_error(x_reshape, deconv_2)\n",
    "\n",
    "adam_opt = tf.train.AdamOptimizer(learning_rate=learning_rate)\n",
    "train_opt = adam_opt.minimize(loss=train_loss)"
   ]
  },
  {
   "cell_type": "code",
   "execution_count": 11,
   "metadata": {
    "scrolled": false
   },
   "outputs": [
    {
     "name": "stdout",
     "output_type": "stream",
     "text": [
      "epoch: 0\n",
      "total_loss: 136447.24340820312\n",
      "epoch: 1\n",
      "total_loss: 49020.071533203125\n",
      "epoch: 2\n",
      "total_loss: 34311.2858581543\n",
      "epoch: 3\n",
      "total_loss: 28999.999298095703\n",
      "epoch: 4\n",
      "total_loss: 26062.54766845703\n",
      "epoch: 5\n",
      "total_loss: 24039.651092529297\n",
      "epoch: 6\n",
      "total_loss: 22470.931762695312\n",
      "epoch: 7\n",
      "total_loss: 21217.463989257812\n",
      "epoch: 8\n",
      "total_loss: 20186.73452758789\n",
      "epoch: 9\n",
      "total_loss: 19390.776000976562\n",
      "epoch: 10\n",
      "total_loss: 18637.576599121094\n",
      "epoch: 11\n",
      "total_loss: 18032.794006347656\n",
      "epoch: 12\n",
      "total_loss: 17496.96646118164\n",
      "epoch: 13\n",
      "total_loss: 17042.17822265625\n",
      "epoch: 14\n",
      "total_loss: 16622.136505126953\n",
      "epoch: 15\n",
      "total_loss: 16212.820190429688\n",
      "epoch: 16\n",
      "total_loss: 15866.803771972656\n",
      "epoch: 17\n",
      "total_loss: 15555.345520019531\n",
      "epoch: 18\n",
      "total_loss: 15248.999038696289\n",
      "epoch: 19\n",
      "total_loss: 14974.621459960938\n"
     ]
    }
   ],
   "source": [
    "sess = tf.Session()\n",
    "\n",
    "writer = tf.summary.FileWriter('./tb_simple_convolutional_network', sess.graph)\n",
    "\n",
    "init = tf.global_variables_initializer()\n",
    "\n",
    "sess.run(init)\n",
    "\n",
    "n_batches = x_train.shape[0] // batch_size\n",
    "\n",
    "for epoch in range(n_epochs):\n",
    "    print('epoch:', epoch)\n",
    "    total_loss = 0.0\n",
    "    for batch in range(n_batches):\n",
    "        # Get batch of data\n",
    "        start_index = batch_size * batch\n",
    "        end_index = start_index + batch_size\n",
    "        x_train_batch = x_train[start_index: end_index].astype(np.float32)\n",
    "        \n",
    "        _, loss = sess.run(\n",
    "            (train_opt, train_loss),\n",
    "            feed_dict={x_batch: x_train_batch})\n",
    "        total_loss = total_loss + loss\n",
    "        tf.summary.scalar('total_loss', total_loss)\n",
    "        tf.summary.merge_all()\n",
    "    print('total_loss:', total_loss)"
   ]
  },
  {
   "cell_type": "markdown",
   "metadata": {},
   "source": [
    "Use the network to make some predictions."
   ]
  },
  {
   "cell_type": "code",
   "execution_count": 12,
   "metadata": {},
   "outputs": [],
   "source": [
    "x_test_batch = x_test[0: 16].astype(np.float32)\n",
    "\n",
    "predict = tf.reshape(tensor=deconv_2, shape=(-1, 28, 28))\n",
    "        \n",
    "predicted = sess.run(predict, feed_dict={x_batch: x_test_batch})"
   ]
  },
  {
   "cell_type": "markdown",
   "metadata": {},
   "source": [
    "Display some test data input."
   ]
  },
  {
   "cell_type": "code",
   "execution_count": 13,
   "metadata": {},
   "outputs": [
    {
     "data": {
      "image/png": "[encoded data removed]",
      "text/plain": [
       "<matplotlib.figure.Figure at 0x7f1f96d4f668>"
      ]
     },
     "metadata": {},
     "output_type": "display_data"
    }
   ],
   "source": [
    "fig, subplots = plt.subplots(4, 4)\n",
    "\n",
    "for i in range(16):\n",
    "    x_index = i % 4\n",
    "    y_index = i // 4\n",
    "\n",
    "    ax = subplots[y_index, x_index]\n",
    "    ax.axis('off')\n",
    "    ax.imshow(x_test_batch[i], cmap='gray')"
   ]
  },
  {
   "cell_type": "markdown",
   "metadata": {},
   "source": [
    "Display some of the reconstructed data."
   ]
  },
  {
   "cell_type": "code",
   "execution_count": 14,
   "metadata": {},
   "outputs": [
    {
     "data": {
      "image/png": "[encoded data removed]",
      "text/plain": [
       "<matplotlib.figure.Figure at 0x7f1ec51663c8>"
      ]
     },
     "metadata": {},
     "output_type": "display_data"
    }
   ],
   "source": [
    "fig, subplots = plt.subplots(4, 4)\n",
    "\n",
    "for i in range(16):\n",
    "    x_index = i % 4\n",
    "    y_index = i // 4\n",
    "\n",
    "    ax = subplots[y_index, x_index]\n",
    "    ax.axis('off')\n",
    "    ax.imshow(predicted[i], cmap='gray')"
   ]
  },
  {
   "cell_type": "markdown",
   "metadata": {},
   "source": [
    "The reconstructed digits are a bit blurry, but pretty good! :-)"
   ]
  }
 ],
 "metadata": {
  "kernelspec": {
   "display_name": "Python 3",
   "language": "python",
   "name": "python3"
  },
  "language_info": {
   "codemirror_mode": {
    "name": "ipython",
    "version": 3
   },
   "file_extension": ".py",
   "mimetype": "text/x-python",
   "name": "python",
   "nbconvert_exporter": "python",
   "pygments_lexer": "ipython3",
   "version": "3.6.3"
  }
 },
 "nbformat": 4,
 "nbformat_minor": 2
}
