{
 "cells": [
  {
   "cell_type": "markdown",
   "metadata": {},
   "source": [
    "# Simple MNIST neural network example\n",
    "\n",
    "Simple neural network example using MNIST dataset."
   ]
  },
  {
   "cell_type": "code",
   "execution_count": 1,
   "metadata": {},
   "outputs": [],
   "source": [
    "import matplotlib.pyplot as plt\n",
    "import numpy as np\n",
    "import tensorflow as tf"
   ]
  },
  {
   "cell_type": "code",
   "execution_count": 2,
   "metadata": {},
   "outputs": [],
   "source": [
    "learning_rate = 0.001\n",
    "batch_size = 1000\n",
    "n_epochs = 20"
   ]
  },
  {
   "cell_type": "code",
   "execution_count": 3,
   "metadata": {},
   "outputs": [],
   "source": [
    "(x_train, y_train), (x_test, y_test) = tf.keras.datasets.mnist.load_data()"
   ]
  },
  {
   "cell_type": "markdown",
   "metadata": {},
   "source": [
    "Display some examples of the training data."
   ]
  },
  {
   "cell_type": "code",
   "execution_count": 4,
   "metadata": {},
   "outputs": [
    {
     "data": {
      "image/png": "[encoded data removed]",
      "text/plain": [
       "<matplotlib.figure.Figure at 0x7fa2504b8550>"
      ]
     },
     "metadata": {},
     "output_type": "display_data"
    }
   ],
   "source": [
    "fig, subplots = plt.subplots(4, 4)\n",
    "\n",
    "for i in range(16):\n",
    "    x_index = i % 4\n",
    "    y_index = i // 4\n",
    "\n",
    "    ax = subplots[y_index, x_index]\n",
    "    ax.axis('off')\n",
    "    ax.imshow(x_train[i], cmap='gray')"
   ]
  },
  {
   "cell_type": "code",
   "execution_count": 5,
   "metadata": {},
   "outputs": [],
   "source": [
    "x_batch = tf.placeholder(tf.float32, shape=(None, 784))\n",
    "y_batch = tf.placeholder(tf.float32, shape=(None, 10))"
   ]
  },
  {
   "cell_type": "markdown",
   "metadata": {},
   "source": [
    "Reshape and reformat data."
   ]
  },
  {
   "cell_type": "code",
   "execution_count": 6,
   "metadata": {},
   "outputs": [],
   "source": [
    "x_train_input = x_train.reshape([-1, 784]).astype(np.float32)\n",
    "y_train_one_hot = tf.one_hot(indices=y_train, depth=10)"
   ]
  },
  {
   "cell_type": "code",
   "execution_count": 7,
   "metadata": {},
   "outputs": [],
   "source": [
    "hidden_layer = tf.contrib.layers.fully_connected(\n",
    "    inputs=x_batch,\n",
    "    num_outputs=25,\n",
    "    activation_fn=None,\n",
    "    trainable=True)\n",
    "\n",
    "output_layer = tf.contrib.layers.fully_connected(\n",
    "    inputs=hidden_layer,\n",
    "    num_outputs=10,\n",
    "    activation_fn=None,\n",
    "    trainable=True)\n",
    "\n",
    "train_loss = tf.losses.sigmoid_cross_entropy(y_batch, output_layer)\n",
    "\n",
    "adam_opt = tf.train.AdamOptimizer(learning_rate=learning_rate)\n",
    "train_opt = adam_opt.minimize(loss=train_loss)"
   ]
  },
  {
   "cell_type": "code",
   "execution_count": 8,
   "metadata": {},
   "outputs": [
    {
     "name": "stdout",
     "output_type": "stream",
     "text": [
      "epoch: 0\n",
      "total_loss: 434.29746305942535\n",
      "epoch: 1\n",
      "total_loss: 103.99333447217941\n",
      "epoch: 2\n",
      "total_loss: 73.09056621789932\n",
      "epoch: 3\n",
      "total_loss: 58.207933127880096\n",
      "epoch: 4\n",
      "total_loss: 48.63280323147774\n",
      "epoch: 5\n",
      "total_loss: 41.443784683942795\n",
      "epoch: 6\n",
      "total_loss: 36.49259266257286\n",
      "epoch: 7\n",
      "total_loss: 32.82809638977051\n",
      "epoch: 8\n",
      "total_loss: 29.313136249780655\n",
      "epoch: 9\n",
      "total_loss: 25.705429077148438\n",
      "epoch: 10\n",
      "total_loss: 23.19368840754032\n",
      "epoch: 11\n",
      "total_loss: 21.003036215901375\n",
      "epoch: 12\n",
      "total_loss: 19.783747673034668\n",
      "epoch: 13\n",
      "total_loss: 18.376859575510025\n",
      "epoch: 14\n",
      "total_loss: 17.636203214526176\n",
      "epoch: 15\n",
      "total_loss: 16.03913214802742\n",
      "epoch: 16\n",
      "total_loss: 15.494131922721863\n",
      "epoch: 17\n",
      "total_loss: 13.948309808969498\n",
      "epoch: 18\n",
      "total_loss: 13.766295783221722\n",
      "epoch: 19\n",
      "total_loss: 13.3656642511487\n"
     ]
    }
   ],
   "source": [
    "sess = tf.Session()\n",
    "\n",
    "init = tf.global_variables_initializer()\n",
    "\n",
    "sess.run(init)\n",
    "\n",
    "n_batches = x_train.shape[0] // batch_size\n",
    "\n",
    "for epoch in range(n_epochs):\n",
    "    print('epoch:', epoch)\n",
    "    total_loss = 0.0\n",
    "    for batch in range(n_batches):\n",
    "        # Get batch of data\n",
    "        start_index = batch_size * batch\n",
    "        end_index = start_index + batch_size\n",
    "        x_train_batch = x_train[start_index: end_index].reshape((-1, 784)).astype(np.float32)\n",
    "        y_train_batch = tf.one_hot(indices=y_train[start_index: end_index], depth=10)\n",
    "        y_train_batch = y_train_batch.eval(session=sess)\n",
    "        \n",
    "        _, loss = sess.run(\n",
    "            (train_opt, train_loss),\n",
    "            feed_dict={x_batch: x_train_batch, y_batch: y_train_batch})\n",
    "        total_loss = total_loss + loss\n",
    "    print('total_loss:', total_loss)"
   ]
  },
  {
   "cell_type": "markdown",
   "metadata": {},
   "source": [
    "Display some examples of the test data."
   ]
  },
  {
   "cell_type": "code",
   "execution_count": 9,
   "metadata": {},
   "outputs": [
    {
     "data": {
      "image/png": "[encoded data removed]",
      "text/plain": [
       "<matplotlib.figure.Figure at 0x7fa24ae553c8>"
      ]
     },
     "metadata": {},
     "output_type": "display_data"
    }
   ],
   "source": [
    "fig, subplots = plt.subplots(4, 4)\n",
    "\n",
    "for i in range(16):\n",
    "    x_index = i % 4\n",
    "    y_index = i // 4\n",
    "\n",
    "    ax = subplots[y_index, x_index]\n",
    "    ax.axis('off')\n",
    "    ax.imshow(x_test[i], cmap='gray')"
   ]
  },
  {
   "cell_type": "markdown",
   "metadata": {},
   "source": [
    "Use the network to make predictions for the test examples above."
   ]
  },
  {
   "cell_type": "code",
   "execution_count": 10,
   "metadata": {},
   "outputs": [
    {
     "name": "stdout",
     "output_type": "stream",
     "text": [
      "[7 2 1 0 4 1 4 9 4 9 0 6 9 0 1 5]\n"
     ]
    }
   ],
   "source": [
    "x_test_batch = x_test[0:16].reshape((-1, 784)).astype(np.float32)\n",
    "y_test_batch = tf.one_hot(indices=y_test[0:16], depth=10)\n",
    "y_test_batch = y_test_batch.eval(session=sess)\n",
    "\n",
    "\n",
    "predict = tf.argmax(tf.nn.sigmoid(output_layer), axis=1)\n",
    "        \n",
    "predicted = sess.run(predict, feed_dict={x_batch: x_test_batch, y_batch: y_test_batch})\n",
    "print(predicted)"
   ]
  },
  {
   "cell_type": "markdown",
   "metadata": {},
   "source": [
    "Not too bad, but definitely room for improvement!"
   ]
  }
 ],
 "metadata": {
  "kernelspec": {
   "display_name": "Python 3",
   "language": "python",
   "name": "python3"
  },
  "language_info": {
   "codemirror_mode": {
    "name": "ipython",
    "version": 3
   },
   "file_extension": ".py",
   "mimetype": "text/x-python",
   "name": "python",
   "nbconvert_exporter": "python",
   "pygments_lexer": "ipython3",
   "version": "3.6.3"
  }
 },
 "nbformat": 4,
 "nbformat_minor": 2
}
